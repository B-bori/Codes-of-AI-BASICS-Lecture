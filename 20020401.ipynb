{
  "nbformat": 4,
  "nbformat_minor": 0,
  "metadata": {
    "colab": {
      "name": "20020401.ipynb",
      "provenance": [],
      "collapsed_sections": [],
      "include_colab_link": true
    },
    "kernelspec": {
      "name": "python3",
      "display_name": "Python 3"
    }
  },
  "cells": [
    {
      "cell_type": "markdown",
      "metadata": {
        "id": "view-in-github",
        "colab_type": "text"
      },
      "source": [
        "<a href=\"https://colab.research.google.com/github/B-bori/Codes-of-AI-BASICS-Lecture/blob/master/20020401.ipynb\" target=\"_parent\"><img src=\"https://colab.research.google.com/assets/colab-badge.svg\" alt=\"Open In Colab\"/></a>"
      ]
    },
    {
      "cell_type": "code",
      "metadata": {
        "id": "7qQvFqbk6cct",
        "colab_type": "code",
        "outputId": "f50251a3-1e2e-4f32-c2e1-d127d680edc8",
        "colab": {
          "base_uri": "https://localhost:8080/",
          "height": 34
        }
      },
      "source": [
        "import math \n",
        "# square root \n",
        "\n",
        "x = math.sqrt(25)\n",
        "print(x)"
      ],
      "execution_count": 0,
      "outputs": [
        {
          "output_type": "stream",
          "text": [
            "5.0\n"
          ],
          "name": "stdout"
        }
      ]
    },
    {
      "cell_type": "code",
      "metadata": {
        "id": "vtFdxMv2wkRx",
        "colab_type": "code",
        "outputId": "1e044c1d-a7f1-459b-fe17-f80c0a6145d2",
        "colab": {
          "base_uri": "https://localhost:8080/",
          "height": 34
        }
      },
      "source": [
        "# calculate cube root of 64\n",
        "cr = round(64**(1/3)) #integer number \n",
        "print(cr)"
      ],
      "execution_count": 0,
      "outputs": [
        {
          "output_type": "stream",
          "text": [
            "4\n"
          ],
          "name": "stdout"
        }
      ]
    },
    {
      "cell_type": "code",
      "metadata": {
        "id": "UFNhekCiw68T",
        "colab_type": "code",
        "outputId": "e28eb19f-c1ee-464d-c333-d426dd3d0faa",
        "colab": {
          "base_uri": "https://localhost:8080/",
          "height": 34
        }
      },
      "source": [
        "#logarithmmm (log4(16))\n",
        "l_v = math.log(16, 4)\n",
        "print(l_v)"
      ],
      "execution_count": 0,
      "outputs": [
        {
          "output_type": "stream",
          "text": [
            "2.0\n"
          ],
          "name": "stdout"
        }
      ]
    },
    {
      "cell_type": "code",
      "metadata": {
        "id": "DOWz2XezxuOa",
        "colab_type": "code",
        "outputId": "f99e7958-c9bb-4b7e-f503-a5d20a32e16b",
        "colab": {
          "base_uri": "https://localhost:8080/",
          "height": 34
        }
      },
      "source": [
        "nl_v = math.log10(100)\n",
        "\n",
        "print(nl_v)"
      ],
      "execution_count": 0,
      "outputs": [
        {
          "output_type": "stream",
          "text": [
            "2.0\n"
          ],
          "name": "stdout"
        }
      ]
    },
    {
      "cell_type": "code",
      "metadata": {
        "id": "syhF-Vh3x6Bz",
        "colab_type": "code",
        "outputId": "3365635c-7eae-432c-ef22-a12e823e96f5",
        "colab": {
          "base_uri": "https://localhost:8080/",
          "height": 670
        }
      },
      "source": [
        "# I want to draw up a graph\n",
        "\n",
        "import pandas as pd \n",
        "\n",
        "df = pd.DataFrame ({'x': range (-10, 11)}) # range of x is -10 to 10 (that is why we have 0) # dataframe to hold up the variable x from -10 to 10 (integer)\n",
        "df['y'] = 2.0**df['x'] # I will put the variable y of dataframe df \n",
        "\n",
        "print(df)\n",
        "\n",
        "# draw up a graph!!!!\n",
        "%matplotlib inline \n",
        "from matplotlib import pyplot as plt\n",
        "\n",
        "plt.plot(df.x, df.y, color =\"magenta\")\n",
        "plt.xlabel('x')\n",
        "plt.ylabel('y')\n",
        "plt.grid()\n",
        "plt.show()\n"
      ],
      "execution_count": 0,
      "outputs": [
        {
          "output_type": "stream",
          "text": [
            "     x            y\n",
            "0  -10     0.000977\n",
            "1   -9     0.001953\n",
            "2   -8     0.003906\n",
            "3   -7     0.007812\n",
            "4   -6     0.015625\n",
            "5   -5     0.031250\n",
            "6   -4     0.062500\n",
            "7   -3     0.125000\n",
            "8   -2     0.250000\n",
            "9   -1     0.500000\n",
            "10   0     1.000000\n",
            "11   1     2.000000\n",
            "12   2     4.000000\n",
            "13   3     8.000000\n",
            "14   4    16.000000\n",
            "15   5    32.000000\n",
            "16   6    64.000000\n",
            "17   7   128.000000\n",
            "18   8   256.000000\n",
            "19   9   512.000000\n",
            "20  10  1024.000000\n"
          ],
          "name": "stdout"
        },
        {
          "output_type": "display_data",
          "data": {
            "image/png": "[encoded data removed]",
            "text/plain": [
              "<Figure size 432x288 with 1 Axes>"
            ]
          },
          "metadata": {
            "tags": []
          }
        }
      ]
    },
    {
      "cell_type": "code",
      "metadata": {
        "id": "J3M_PsRRyd3u",
        "colab_type": "code",
        "outputId": "c6d2e209-0c80-42ec-9659-4b755753dc37",
        "colab": {
          "base_uri": "https://localhost:8080/",
          "height": 265
        }
      },
      "source": [
        "import pandas as pd\n",
        "\n",
        "df = pd.DataFrame ({'x': range (-9, 9)})\n",
        "df['y'] = 2*df['x']**2 + 2*df['x'] -4 \n",
        "\n",
        "from matplotlib import pyplot as plt\n",
        "plt.plot(df.x, df.y, color = \"red\")\n",
        "plt.axhline() # x axis\n",
        "plt.axvline() # y axis \n",
        "plt.show()\n",
        "\n"
      ],
      "execution_count": 0,
      "outputs": [
        {
          "output_type": "display_data",
          "data": {
            "image/png": "[encoded data removed]",
            "text/plain": [
              "<Figure size 432x288 with 1 Axes>"
            ]
          },
          "metadata": {
            "tags": []
          }
        }
      ]
    },
    {
      "cell_type": "code",
      "metadata": {
        "id": "I2Endd5m3HNe",
        "colab_type": "code",
        "outputId": "fe794f8c-e22f-4b61-9685-f4619ed2d9a9",
        "colab": {
          "base_uri": "https://localhost:8080/",
          "height": 513
        }
      },
      "source": [
        "# I want to let you know how to find the minimum without a first derivative\n",
        "\n",
        "%matplotlib inline \n",
        "\n",
        "def plot_parabola(a,b,c): \n",
        "  import pandas as pd\n",
        "  import numpy as np\n",
        "\n",
        "  from matplotlib import pyplot as plt\n",
        "\n",
        "  vx = (-1*b)/(2*a) # i haven't used this \n",
        "  vy = a*vx**2 + b*vx +c # i haven't used this yet ax(sqaure)+bx +c \n",
        "\n",
        "  minx = int(vx -10)\n",
        "  maxx = int(vx +11)\n",
        "\n",
        "  df = pd.DataFrame ({'x': range(minx, maxx)})\n",
        "  df['y']= a*df['x']**2 + b*df['x']+c #y = ax2(square) + bx +c \n",
        "\n",
        "  miny = df.y.min()\n",
        "  maxy = df.y.max()\n",
        "\n",
        "  sx = [vx, vx] # a single point \n",
        "  sy = [miny, maxy] # a line (range)\n",
        "\n",
        "  plt.scatter(vx, vy, color = \"red\")\n",
        "  plt.plot(sx, sy, color = \"magenta\")\n",
        "\n",
        "  plt.plot (df.x, df.y, color = \"grey\")\n",
        "  plt.show()\n",
        "\n",
        "plot_parabola(3, -1, 4) # calling up the function we have designed. \n",
        "plot_parabola(1, 2, -5)\n"
      ],
      "execution_count": 0,
      "outputs": [
        {
          "output_type": "display_data",
          "data": {
            "image/png": "[encoded data removed]",
            "text/plain": [
              "<Figure size 432x288 with 1 Axes>"
            ]
          },
          "metadata": {
            "tags": []
          }
        },
        {
          "output_type": "display_data",
          "data": {
            "image/png": "[encoded data removed]",
            "text/plain": [
              "<Figure size 432x288 with 1 Axes>"
            ]
          },
          "metadata": {
            "tags": []
          }
        }
      ]
    },
    {
      "cell_type": "code",
      "metadata": {
        "id": "a3hr5-TW5RWc",
        "colab_type": "code",
        "outputId": "b2831f68-3c9e-40b6-e959-49ef721a2b89",
        "colab": {
          "base_uri": "https://localhost:8080/",
          "height": 267
        }
      },
      "source": [
        "import pandas as pd\n",
        "from sympy import * # I imported all the sympy library that incldues a lot of mathematical formula... \n",
        "\n",
        "x = Symbol('x') #without this line, Python tries to interpret (evaluate) x as variable \n",
        "f = 2**x #declaration of the mathematical functional form, when the python reach this point, it looks for what is x? \n",
        "\n",
        "f_prime = f.diff(x) # first derivatives... \n",
        "\n",
        "print(f)\n",
        "print(f_prime)\n",
        "\n",
        "\n",
        "# I want to put some values instead of x , real value, real sloe at Point X = 5 \n",
        "\n",
        "g = lambdify(x, f) # declare that from now on, I will call g function (corrent term is variable) with parameters x and f  \n",
        "g_prime = lambdify(x, f_prime)\n",
        "\n",
        "\n",
        "df = pd.DataFrame({'y': range(-10, 11)})\n",
        "df_y = df['y']\n",
        "from matplotlib import pyplot as plt\n",
        "plt.plot(df.y, f(df['y']), color = \"red\")\n",
        "plt.plot(g_prime(5),f(5), color = \"margenta\")\n",
        "plt.axhline() # x axis\n",
        "plt.axvline() # y axis \n",
        "plt.show()"
      ],
      "execution_count": 0,
      "outputs": [
        {
          "output_type": "stream",
          "text": [
            "2**x\n",
            "2**x*log(2)\n"
          ],
          "name": "stdout"
        },
        {
          "output_type": "error",
          "ename": "TypeError",
          "evalue": "ignored",
          "traceback": [
            "\u001b[0;31m---------------------------------------------------------------------------\u001b[0m",
            "\u001b[0;31mTypeError\u001b[0m                                 Traceback (most recent call last)",
            "\u001b[0;32m<ipython-input-57-94d489275e4b>\u001b[0m in \u001b[0;36m<module>\u001b[0;34m()\u001b[0m\n\u001b[1;32m     20\u001b[0m \u001b[0;34m\u001b[0m\u001b[0m\n\u001b[1;32m     21\u001b[0m \u001b[0;32mfrom\u001b[0m \u001b[0mmatplotlib\u001b[0m \u001b[0;32mimport\u001b[0m \u001b[0mpyplot\u001b[0m \u001b[0;32mas\u001b[0m \u001b[0mplt\u001b[0m\u001b[0;34m\u001b[0m\u001b[0;34m\u001b[0m\u001b[0m\n\u001b[0;32m---> 22\u001b[0;31m \u001b[0mplt\u001b[0m\u001b[0;34m.\u001b[0m\u001b[0mplot\u001b[0m\u001b[0;34m(\u001b[0m\u001b[0mdf\u001b[0m\u001b[0;34m.\u001b[0m\u001b[0my\u001b[0m\u001b[0;34m,\u001b[0m \u001b[0mf\u001b[0m\u001b[0;34m(\u001b[0m\u001b[0mdf\u001b[0m\u001b[0;34m[\u001b[0m\u001b[0;34m'y'\u001b[0m\u001b[0;34m]\u001b[0m\u001b[0;34m)\u001b[0m\u001b[0;34m,\u001b[0m \u001b[0mcolor\u001b[0m \u001b[0;34m=\u001b[0m \u001b[0;34m\"red\"\u001b[0m\u001b[0;34m)\u001b[0m\u001b[0;34m\u001b[0m\u001b[0;34m\u001b[0m\u001b[0m\n\u001b[0m\u001b[1;32m     23\u001b[0m \u001b[0mplt\u001b[0m\u001b[0;34m.\u001b[0m\u001b[0mplot\u001b[0m\u001b[0;34m(\u001b[0m\u001b[0mg_prime\u001b[0m\u001b[0;34m(\u001b[0m\u001b[0;36m5\u001b[0m\u001b[0;34m)\u001b[0m\u001b[0;34m,\u001b[0m\u001b[0mf\u001b[0m\u001b[0;34m(\u001b[0m\u001b[0;36m5\u001b[0m\u001b[0;34m)\u001b[0m\u001b[0;34m,\u001b[0m \u001b[0mcolor\u001b[0m \u001b[0;34m=\u001b[0m \u001b[0;34m\"margenta\"\u001b[0m\u001b[0;34m)\u001b[0m\u001b[0;34m\u001b[0m\u001b[0;34m\u001b[0m\u001b[0m\n\u001b[1;32m     24\u001b[0m \u001b[0mplt\u001b[0m\u001b[0;34m.\u001b[0m\u001b[0maxhline\u001b[0m\u001b[0;34m(\u001b[0m\u001b[0;34m)\u001b[0m \u001b[0;31m# x axis\u001b[0m\u001b[0;34m\u001b[0m\u001b[0;34m\u001b[0m\u001b[0m\n",
            "\u001b[0;31mTypeError\u001b[0m: 'Pow' object is not callable"
          ]
        }
      ]
    },
    {
      "cell_type": "code",
      "metadata": {
        "id": "n8wyvmAWE0si",
        "colab_type": "code",
        "outputId": "712c05a6-1646-4b08-f2e6-86e277b945f4",
        "colab": {
          "base_uri": "https://localhost:8080/",
          "height": 279
        }
      },
      "source": [
        "%matplotlib inline\n",
        "\n",
        "# Create function f\n",
        "def f(x):\n",
        "    return x**2 + x\n",
        "\n",
        "# Create derivative function for f\n",
        "def fd(x):\n",
        "    return (2 * x) + 1\n",
        "\n",
        "from matplotlib import pyplot as plt\n",
        "\n",
        "# Create an array of x values from 0 to 10 to plot\n",
        "x = list(range(0, 11))\n",
        "\n",
        "# Use the function to get the y values\n",
        "y = [f(i) for i in x]\n",
        "\n",
        "# Set the point\n",
        "x1 = 5\n",
        "y1 = f(x1)\n",
        "\n",
        "# Calculate the derivative using the derivative function\n",
        "m = fd(x1)\n",
        "\n",
        "# Set up the graph\n",
        "plt.xlabel('x')\n",
        "plt.ylabel('f(x)')\n",
        "plt.grid()\n",
        "\n",
        "# Plot the function\n",
        "plt.plot(x,y, color='green')\n",
        "\n",
        "# Plot the point\n",
        "plt.scatter(x1,y1, c='red')\n",
        "plt.annotate('(x,f(x))',(x1,y1), xytext=(x1-0.5, y1+3))\n",
        "\n",
        "# Plot the tangent line using the derivative we calculated\n",
        "xMin = x1 - 3\n",
        "yMin = y1 - (3*m)\n",
        "xMax = x1 + 3\n",
        "yMax = y1 + (3*m)\n",
        "plt.plot([xMin,xMax],[yMin,yMax], color='magenta')\n",
        "\n",
        "plt.show()"
      ],
      "execution_count": 0,
      "outputs": [
        {
          "output_type": "display_data",
          "data": {
            "image/png": "[encoded data removed]",
            "text/plain": [
              "<Figure size 432x288 with 1 Axes>"
            ]
          },
          "metadata": {
            "tags": []
          }
        }
      ]
    }
  ]
}