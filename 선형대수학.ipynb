{
  "nbformat": 4,
  "nbformat_minor": 0,
  "metadata": {
    "colab": {
      "name": "선형대수학.ipynb",
      "provenance": [],
      "collapsed_sections": [],
      "authorship_tag": "ABX9TyMPZcfhZbyFr3XZehTE7u+X",
      "include_colab_link": true
    },
    "kernelspec": {
      "name": "python3",
      "display_name": "Python 3"
    }
  },
  "cells": [
    {
      "cell_type": "markdown",
      "metadata": {
        "id": "view-in-github",
        "colab_type": "text"
      },
      "source": [
        "<a href=\"https://colab.research.google.com/github/B-bori/Codes-of-AI-BASICS-Lecture/blob/master/%EC%84%A0%ED%98%95%EB%8C%80%EC%88%98%ED%95%99.ipynb\" target=\"_parent\"><img src=\"https://colab.research.google.com/assets/colab-badge.svg\" alt=\"Open In Colab\"/></a>"
      ]
    },
    {
      "cell_type": "code",
      "metadata": {
        "id": "BKiUyR-SCRMI",
        "colab_type": "code",
        "colab": {}
      },
      "source": [
        "# invert matrix\n",
        "from numpy import array\n",
        "from numpy.linalg import inv #define matrix\n",
        "A=array([\n",
        "[1.0, 2.0],\n",
        "[3.0, 4.0]\n",
        "])\n",
        "print(A)\n",
        "#invert matrix\n",
        "B=inv(A)\n",
        "#multiply A and B\n",
        "I=A.dot(B)\n",
        "print(I)"
      ],
      "execution_count": 0,
      "outputs": []
    },
    {
      "cell_type": "code",
      "metadata": {
        "id": "KS_JT4bXEMtb",
        "colab_type": "code",
        "colab": {}
      },
      "source": [
        "# LU decomposition\n",
        "from numpy import array\n",
        "from scipy.linalg import lu\n",
        "# define a square matrix\n",
        "A=array([[1,2,3],\n",
        "[4,5,6],\n",
        "[7,8,9]])\n",
        "print(A)\n",
        "# factorize\n",
        "P,L,U= lu(A)\n",
        "print(P)\n",
        "print(L)\n",
        "print(U)\n",
        "#reconstruct\n",
        "B=P.dot(L).dot(U)\n",
        "print(B)"
      ],
      "execution_count": 0,
      "outputs": []
    },
    {
      "cell_type": "code",
      "metadata": {
        "id": "OPLT7FInEtQk",
        "colab_type": "code",
        "outputId": "750129ea-9e2e-43e9-9bb0-5471d215a8e5",
        "colab": {
          "base_uri": "https://localhost:8080/",
          "height": 105
        }
      },
      "source": [
        "# eigendecomposition example with Python\n",
        "from numpy import array\n",
        "from numpy.linalg import eig # define matrix\n",
        "A=array([[2,2],[16,6]])\n",
        "print(A)\n",
        "#factorize\n",
        "values, vectors=eig(A)\n",
        "print(values)\n",
        "print(vectors)"
      ],
      "execution_count": 0,
      "outputs": [
        {
          "output_type": "stream",
          "text": [
            "[[ 2  2]\n",
            " [16  6]]\n",
            "[-2. 10.]\n",
            "[[-0.4472136  -0.24253563]\n",
            " [ 0.89442719 -0.9701425 ]]\n"
          ],
          "name": "stdout"
        }
      ]
    },
    {
      "cell_type": "code",
      "metadata": {
        "id": "poqVz0nIOsN4",
        "colab_type": "code",
        "outputId": "e23f7b2b-258b-4b73-bf57-bbbc4d4d195e",
        "colab": {
          "base_uri": "https://localhost:8080/",
          "height": 281
        }
      },
      "source": [
        "# SVD decomposition\n",
        " from numpy import array\n",
        " from numpy import dot\n",
        " from numpy import transpose\n",
        "from scipy.linalg import svd #define a matrix\n",
        "A=array([\n",
        "[5,4,1],\n",
        "[5,5,0],\n",
        "[0,0,5],\n",
        "[1,0,4]])\n",
        "print(A)\n",
        "#factorize\n",
        "U,s,V= svd(A)\n",
        "print(U)\n",
        "print(s)\n",
        "print(V)\n",
        "B= U.dot(s).dot(V) # is that right one? # is this your one of the assignments.\n",
        "print(B) # should be A=B?"
      ],
      "execution_count": 0,
      "outputs": [
        {
          "output_type": "stream",
          "text": [
            "[[5 4 1]\n",
            " [5 5 0]\n",
            " [0 0 5]\n",
            " [1 0 4]]\n",
            "[[-0.67096878  0.02362898 -0.46466034 -0.57735027]\n",
            " [-0.7197425   0.20541998  0.47585716  0.46188022]\n",
            " [-0.09389374 -0.77048084  0.52682373 -0.34641016]\n",
            " [-0.15151103 -0.6029955  -0.52925183  0.57735027]]\n",
            "[9.6438109  6.36389089 0.70555232]\n",
            "[[-0.73674894 -0.65146317 -0.1810987 ]\n",
            " [ 0.0852072   0.17624687 -0.9806512 ]\n",
            " [-0.67077622  0.73792464  0.07434034]]\n",
            "[[ 1.00000000e+00  6.22904435e-17 -2.01743020e-16]\n",
            " [ 6.22904435e-17  1.00000000e+00  1.68695960e-17]\n",
            " [-2.01743020e-16  1.68695960e-17  1.00000000e+00]]\n"
          ],
          "name": "stdout"
        }
      ]
    }
  ]
}